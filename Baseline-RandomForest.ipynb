{
 "cells": [
  {
   "cell_type": "code",
   "execution_count": 1,
   "id": "4a205c0b",
   "metadata": {},
   "outputs": [],
   "source": [
    "import pandas as pd\n",
    "import numpy as np\n",
    "from sklearn.ensemble import RandomForestClassifier"
   ]
  },
  {
   "cell_type": "code",
   "execution_count": 3,
   "id": "d58439d7",
   "metadata": {},
   "outputs": [],
   "source": [
    "from sklearn.model_selection import train_test_split"
   ]
  },
  {
   "cell_type": "code",
   "execution_count": 8,
   "id": "d49efe73",
   "metadata": {},
   "outputs": [],
   "source": [
    "from sklearn.metrics import roc_curve\n",
    "from sklearn.metrics import auc"
   ]
  },
  {
   "cell_type": "code",
   "execution_count": 15,
   "id": "63367548",
   "metadata": {},
   "outputs": [],
   "source": [
    "train_df = pd.read_csv(\"train.csv\")\n",
    "train_df_drop_na = train_df.dropna(axis=0)\n",
    "X = train_df_drop_na.drop(columns=['id','song_popularity'])\n",
    "y = train_df_drop_na['song_popularity']"
   ]
  },
  {
   "cell_type": "code",
   "execution_count": 25,
   "id": "556f58cc",
   "metadata": {},
   "outputs": [
    {
     "data": {
      "text/html": [
       "<div>\n",
       "<style scoped>\n",
       "    .dataframe tbody tr th:only-of-type {\n",
       "        vertical-align: middle;\n",
       "    }\n",
       "\n",
       "    .dataframe tbody tr th {\n",
       "        vertical-align: top;\n",
       "    }\n",
       "\n",
       "    .dataframe thead th {\n",
       "        text-align: right;\n",
       "    }\n",
       "</style>\n",
       "<table border=\"1\" class=\"dataframe\">\n",
       "  <thead>\n",
       "    <tr style=\"text-align: right;\">\n",
       "      <th></th>\n",
       "      <th>id</th>\n",
       "      <th>song_duration_ms</th>\n",
       "      <th>acousticness</th>\n",
       "      <th>danceability</th>\n",
       "      <th>energy</th>\n",
       "      <th>instrumentalness</th>\n",
       "      <th>key</th>\n",
       "      <th>liveness</th>\n",
       "      <th>loudness</th>\n",
       "      <th>audio_mode</th>\n",
       "      <th>speechiness</th>\n",
       "      <th>tempo</th>\n",
       "      <th>time_signature</th>\n",
       "      <th>audio_valence</th>\n",
       "      <th>song_popularity</th>\n",
       "    </tr>\n",
       "  </thead>\n",
       "  <tbody>\n",
       "    <tr>\n",
       "      <th>0</th>\n",
       "      <td>0</td>\n",
       "      <td>212990.0</td>\n",
       "      <td>0.642286</td>\n",
       "      <td>0.856520</td>\n",
       "      <td>0.707073</td>\n",
       "      <td>0.002001</td>\n",
       "      <td>10.0</td>\n",
       "      <td>NaN</td>\n",
       "      <td>-5.619088</td>\n",
       "      <td>0</td>\n",
       "      <td>0.082570</td>\n",
       "      <td>158.386236</td>\n",
       "      <td>4</td>\n",
       "      <td>0.734642</td>\n",
       "      <td>0</td>\n",
       "    </tr>\n",
       "    <tr>\n",
       "      <th>1</th>\n",
       "      <td>1</td>\n",
       "      <td>NaN</td>\n",
       "      <td>0.054866</td>\n",
       "      <td>0.733289</td>\n",
       "      <td>0.835545</td>\n",
       "      <td>0.000996</td>\n",
       "      <td>8.0</td>\n",
       "      <td>0.436428</td>\n",
       "      <td>-5.236965</td>\n",
       "      <td>1</td>\n",
       "      <td>0.127358</td>\n",
       "      <td>102.752988</td>\n",
       "      <td>3</td>\n",
       "      <td>0.711531</td>\n",
       "      <td>1</td>\n",
       "    </tr>\n",
       "    <tr>\n",
       "      <th>2</th>\n",
       "      <td>2</td>\n",
       "      <td>193213.0</td>\n",
       "      <td>NaN</td>\n",
       "      <td>0.188387</td>\n",
       "      <td>0.783524</td>\n",
       "      <td>-0.002694</td>\n",
       "      <td>5.0</td>\n",
       "      <td>0.170499</td>\n",
       "      <td>-4.951759</td>\n",
       "      <td>0</td>\n",
       "      <td>0.052282</td>\n",
       "      <td>178.685791</td>\n",
       "      <td>3</td>\n",
       "      <td>0.425536</td>\n",
       "      <td>0</td>\n",
       "    </tr>\n",
       "    <tr>\n",
       "      <th>3</th>\n",
       "      <td>3</td>\n",
       "      <td>249893.0</td>\n",
       "      <td>0.488660</td>\n",
       "      <td>0.585234</td>\n",
       "      <td>0.552685</td>\n",
       "      <td>0.000608</td>\n",
       "      <td>0.0</td>\n",
       "      <td>0.094805</td>\n",
       "      <td>-7.893694</td>\n",
       "      <td>0</td>\n",
       "      <td>0.035618</td>\n",
       "      <td>128.715630</td>\n",
       "      <td>3</td>\n",
       "      <td>0.453597</td>\n",
       "      <td>0</td>\n",
       "    </tr>\n",
       "    <tr>\n",
       "      <th>4</th>\n",
       "      <td>4</td>\n",
       "      <td>165969.0</td>\n",
       "      <td>0.493017</td>\n",
       "      <td>NaN</td>\n",
       "      <td>0.740982</td>\n",
       "      <td>0.002033</td>\n",
       "      <td>10.0</td>\n",
       "      <td>0.094891</td>\n",
       "      <td>-2.684095</td>\n",
       "      <td>0</td>\n",
       "      <td>0.050746</td>\n",
       "      <td>121.928157</td>\n",
       "      <td>4</td>\n",
       "      <td>0.741311</td>\n",
       "      <td>0</td>\n",
       "    </tr>\n",
       "    <tr>\n",
       "      <th>...</th>\n",
       "      <td>...</td>\n",
       "      <td>...</td>\n",
       "      <td>...</td>\n",
       "      <td>...</td>\n",
       "      <td>...</td>\n",
       "      <td>...</td>\n",
       "      <td>...</td>\n",
       "      <td>...</td>\n",
       "      <td>...</td>\n",
       "      <td>...</td>\n",
       "      <td>...</td>\n",
       "      <td>...</td>\n",
       "      <td>...</td>\n",
       "      <td>...</td>\n",
       "      <td>...</td>\n",
       "    </tr>\n",
       "    <tr>\n",
       "      <th>39995</th>\n",
       "      <td>39995</td>\n",
       "      <td>237799.0</td>\n",
       "      <td>NaN</td>\n",
       "      <td>0.748942</td>\n",
       "      <td>0.511234</td>\n",
       "      <td>0.002913</td>\n",
       "      <td>0.0</td>\n",
       "      <td>0.173803</td>\n",
       "      <td>-8.853673</td>\n",
       "      <td>0</td>\n",
       "      <td>0.078060</td>\n",
       "      <td>168.262924</td>\n",
       "      <td>3</td>\n",
       "      <td>0.178159</td>\n",
       "      <td>0</td>\n",
       "    </tr>\n",
       "    <tr>\n",
       "      <th>39996</th>\n",
       "      <td>39996</td>\n",
       "      <td>191119.0</td>\n",
       "      <td>0.067488</td>\n",
       "      <td>0.672830</td>\n",
       "      <td>0.889685</td>\n",
       "      <td>0.001225</td>\n",
       "      <td>5.0</td>\n",
       "      <td>0.122924</td>\n",
       "      <td>-7.798993</td>\n",
       "      <td>0</td>\n",
       "      <td>0.188607</td>\n",
       "      <td>110.684544</td>\n",
       "      <td>3</td>\n",
       "      <td>0.790626</td>\n",
       "      <td>0</td>\n",
       "    </tr>\n",
       "    <tr>\n",
       "      <th>39997</th>\n",
       "      <td>39997</td>\n",
       "      <td>160879.0</td>\n",
       "      <td>0.877431</td>\n",
       "      <td>0.409065</td>\n",
       "      <td>0.292671</td>\n",
       "      <td>NaN</td>\n",
       "      <td>10.0</td>\n",
       "      <td>0.110664</td>\n",
       "      <td>-15.378585</td>\n",
       "      <td>0</td>\n",
       "      <td>0.031294</td>\n",
       "      <td>99.556074</td>\n",
       "      <td>3</td>\n",
       "      <td>0.177947</td>\n",
       "      <td>1</td>\n",
       "    </tr>\n",
       "    <tr>\n",
       "      <th>39998</th>\n",
       "      <td>39998</td>\n",
       "      <td>193918.0</td>\n",
       "      <td>NaN</td>\n",
       "      <td>0.365738</td>\n",
       "      <td>NaN</td>\n",
       "      <td>0.000339</td>\n",
       "      <td>1.0</td>\n",
       "      <td>0.356308</td>\n",
       "      <td>-4.661977</td>\n",
       "      <td>1</td>\n",
       "      <td>0.054096</td>\n",
       "      <td>139.857384</td>\n",
       "      <td>3</td>\n",
       "      <td>0.772978</td>\n",
       "      <td>0</td>\n",
       "    </tr>\n",
       "    <tr>\n",
       "      <th>39999</th>\n",
       "      <td>39999</td>\n",
       "      <td>196475.0</td>\n",
       "      <td>0.007116</td>\n",
       "      <td>0.354585</td>\n",
       "      <td>0.994883</td>\n",
       "      <td>0.002191</td>\n",
       "      <td>1.0</td>\n",
       "      <td>0.200900</td>\n",
       "      <td>-4.875249</td>\n",
       "      <td>0</td>\n",
       "      <td>0.080549</td>\n",
       "      <td>101.974949</td>\n",
       "      <td>3</td>\n",
       "      <td>0.588549</td>\n",
       "      <td>0</td>\n",
       "    </tr>\n",
       "  </tbody>\n",
       "</table>\n",
       "<p>40000 rows × 15 columns</p>\n",
       "</div>"
      ],
      "text/plain": [
       "          id  song_duration_ms  acousticness  danceability    energy  \\\n",
       "0          0          212990.0      0.642286      0.856520  0.707073   \n",
       "1          1               NaN      0.054866      0.733289  0.835545   \n",
       "2          2          193213.0           NaN      0.188387  0.783524   \n",
       "3          3          249893.0      0.488660      0.585234  0.552685   \n",
       "4          4          165969.0      0.493017           NaN  0.740982   \n",
       "...      ...               ...           ...           ...       ...   \n",
       "39995  39995          237799.0           NaN      0.748942  0.511234   \n",
       "39996  39996          191119.0      0.067488      0.672830  0.889685   \n",
       "39997  39997          160879.0      0.877431      0.409065  0.292671   \n",
       "39998  39998          193918.0           NaN      0.365738       NaN   \n",
       "39999  39999          196475.0      0.007116      0.354585  0.994883   \n",
       "\n",
       "       instrumentalness   key  liveness   loudness  audio_mode  speechiness  \\\n",
       "0              0.002001  10.0       NaN  -5.619088           0     0.082570   \n",
       "1              0.000996   8.0  0.436428  -5.236965           1     0.127358   \n",
       "2             -0.002694   5.0  0.170499  -4.951759           0     0.052282   \n",
       "3              0.000608   0.0  0.094805  -7.893694           0     0.035618   \n",
       "4              0.002033  10.0  0.094891  -2.684095           0     0.050746   \n",
       "...                 ...   ...       ...        ...         ...          ...   \n",
       "39995          0.002913   0.0  0.173803  -8.853673           0     0.078060   \n",
       "39996          0.001225   5.0  0.122924  -7.798993           0     0.188607   \n",
       "39997               NaN  10.0  0.110664 -15.378585           0     0.031294   \n",
       "39998          0.000339   1.0  0.356308  -4.661977           1     0.054096   \n",
       "39999          0.002191   1.0  0.200900  -4.875249           0     0.080549   \n",
       "\n",
       "            tempo  time_signature  audio_valence  song_popularity  \n",
       "0      158.386236               4       0.734642                0  \n",
       "1      102.752988               3       0.711531                1  \n",
       "2      178.685791               3       0.425536                0  \n",
       "3      128.715630               3       0.453597                0  \n",
       "4      121.928157               4       0.741311                0  \n",
       "...           ...             ...            ...              ...  \n",
       "39995  168.262924               3       0.178159                0  \n",
       "39996  110.684544               3       0.790626                0  \n",
       "39997   99.556074               3       0.177947                1  \n",
       "39998  139.857384               3       0.772978                0  \n",
       "39999  101.974949               3       0.588549                0  \n",
       "\n",
       "[40000 rows x 15 columns]"
      ]
     },
     "execution_count": 25,
     "metadata": {},
     "output_type": "execute_result"
    }
   ],
   "source": [
    "train_df"
   ]
  },
  {
   "cell_type": "code",
   "execution_count": 16,
   "id": "7ae7bc0e",
   "metadata": {},
   "outputs": [],
   "source": [
    "X_train, X_test, y_train, y_test = train_test_split(X, y, stratify=y)"
   ]
  },
  {
   "cell_type": "code",
   "execution_count": 17,
   "id": "c2c1ac81",
   "metadata": {},
   "outputs": [],
   "source": [
    "clf = RandomForestClassifier(n_jobs=-1)"
   ]
  },
  {
   "cell_type": "code",
   "execution_count": 18,
   "id": "29f302e7",
   "metadata": {},
   "outputs": [
    {
     "data": {
      "text/plain": [
       "RandomForestClassifier(n_jobs=-1)"
      ]
     },
     "execution_count": 18,
     "metadata": {},
     "output_type": "execute_result"
    }
   ],
   "source": [
    "clf.fit(X_train,y_train)"
   ]
  },
  {
   "cell_type": "code",
   "execution_count": 19,
   "id": "d8ea9412",
   "metadata": {},
   "outputs": [],
   "source": [
    "fpr, tpr, _ = roc_curve(y_test,clf.predict(X_test))"
   ]
  },
  {
   "cell_type": "code",
   "execution_count": 20,
   "id": "b439923a",
   "metadata": {},
   "outputs": [
    {
     "data": {
      "text/plain": [
       "0.5153558396020631"
      ]
     },
     "execution_count": 20,
     "metadata": {},
     "output_type": "execute_result"
    }
   ],
   "source": [
    "auc(fpr,tpr)"
   ]
  },
  {
   "cell_type": "code",
   "execution_count": 21,
   "id": "67803f0d",
   "metadata": {},
   "outputs": [
    {
     "data": {
      "text/plain": [
       "RandomForestClassifier(n_jobs=-1)"
      ]
     },
     "execution_count": 21,
     "metadata": {},
     "output_type": "execute_result"
    }
   ],
   "source": [
    "clf.fit(X_test, y_test)"
   ]
  },
  {
   "cell_type": "code",
   "execution_count": 32,
   "id": "c9983950",
   "metadata": {},
   "outputs": [],
   "source": [
    "test_df = pd.read_csv('test.csv')"
   ]
  },
  {
   "cell_type": "code",
   "execution_count": 23,
   "id": "23361ea9",
   "metadata": {},
   "outputs": [
    {
     "data": {
      "text/html": [
       "<div>\n",
       "<style scoped>\n",
       "    .dataframe tbody tr th:only-of-type {\n",
       "        vertical-align: middle;\n",
       "    }\n",
       "\n",
       "    .dataframe tbody tr th {\n",
       "        vertical-align: top;\n",
       "    }\n",
       "\n",
       "    .dataframe thead th {\n",
       "        text-align: right;\n",
       "    }\n",
       "</style>\n",
       "<table border=\"1\" class=\"dataframe\">\n",
       "  <thead>\n",
       "    <tr style=\"text-align: right;\">\n",
       "      <th></th>\n",
       "      <th>id</th>\n",
       "      <th>song_duration_ms</th>\n",
       "      <th>acousticness</th>\n",
       "      <th>danceability</th>\n",
       "      <th>energy</th>\n",
       "      <th>instrumentalness</th>\n",
       "      <th>key</th>\n",
       "      <th>liveness</th>\n",
       "      <th>loudness</th>\n",
       "      <th>audio_mode</th>\n",
       "      <th>speechiness</th>\n",
       "      <th>tempo</th>\n",
       "      <th>time_signature</th>\n",
       "      <th>audio_valence</th>\n",
       "    </tr>\n",
       "  </thead>\n",
       "  <tbody>\n",
       "    <tr>\n",
       "      <th>0</th>\n",
       "      <td>0</td>\n",
       "      <td>308523.0</td>\n",
       "      <td>0.019845</td>\n",
       "      <td>NaN</td>\n",
       "      <td>0.908939</td>\n",
       "      <td>0.001438</td>\n",
       "      <td>NaN</td>\n",
       "      <td>0.112832</td>\n",
       "      <td>-8.890172</td>\n",
       "      <td>0</td>\n",
       "      <td>0.082714</td>\n",
       "      <td>126.129304</td>\n",
       "      <td>4</td>\n",
       "      <td>0.399620</td>\n",
       "    </tr>\n",
       "    <tr>\n",
       "      <th>1</th>\n",
       "      <td>1</td>\n",
       "      <td>200011.0</td>\n",
       "      <td>0.070119</td>\n",
       "      <td>0.731256</td>\n",
       "      <td>0.444655</td>\n",
       "      <td>0.002020</td>\n",
       "      <td>10.0</td>\n",
       "      <td>0.139040</td>\n",
       "      <td>-6.301214</td>\n",
       "      <td>0</td>\n",
       "      <td>0.061685</td>\n",
       "      <td>86.448149</td>\n",
       "      <td>3</td>\n",
       "      <td>0.499424</td>\n",
       "    </tr>\n",
       "    <tr>\n",
       "      <th>2</th>\n",
       "      <td>2</td>\n",
       "      <td>279758.0</td>\n",
       "      <td>0.810637</td>\n",
       "      <td>0.568858</td>\n",
       "      <td>0.125466</td>\n",
       "      <td>0.898841</td>\n",
       "      <td>0.0</td>\n",
       "      <td>0.226614</td>\n",
       "      <td>-11.542478</td>\n",
       "      <td>0</td>\n",
       "      <td>0.041868</td>\n",
       "      <td>99.544351</td>\n",
       "      <td>3</td>\n",
       "      <td>0.564951</td>\n",
       "    </tr>\n",
       "    <tr>\n",
       "      <th>3</th>\n",
       "      <td>3</td>\n",
       "      <td>249197.0</td>\n",
       "      <td>NaN</td>\n",
       "      <td>0.871789</td>\n",
       "      <td>0.557342</td>\n",
       "      <td>0.000715</td>\n",
       "      <td>4.0</td>\n",
       "      <td>0.325391</td>\n",
       "      <td>-7.905546</td>\n",
       "      <td>1</td>\n",
       "      <td>0.046815</td>\n",
       "      <td>123.063854</td>\n",
       "      <td>4</td>\n",
       "      <td>0.906485</td>\n",
       "    </tr>\n",
       "    <tr>\n",
       "      <th>4</th>\n",
       "      <td>4</td>\n",
       "      <td>NaN</td>\n",
       "      <td>0.765568</td>\n",
       "      <td>0.624687</td>\n",
       "      <td>0.710794</td>\n",
       "      <td>0.000346</td>\n",
       "      <td>8.0</td>\n",
       "      <td>0.308284</td>\n",
       "      <td>NaN</td>\n",
       "      <td>0</td>\n",
       "      <td>0.129284</td>\n",
       "      <td>88.703121</td>\n",
       "      <td>3</td>\n",
       "      <td>0.935571</td>\n",
       "    </tr>\n",
       "    <tr>\n",
       "      <th>...</th>\n",
       "      <td>...</td>\n",
       "      <td>...</td>\n",
       "      <td>...</td>\n",
       "      <td>...</td>\n",
       "      <td>...</td>\n",
       "      <td>...</td>\n",
       "      <td>...</td>\n",
       "      <td>...</td>\n",
       "      <td>...</td>\n",
       "      <td>...</td>\n",
       "      <td>...</td>\n",
       "      <td>...</td>\n",
       "      <td>...</td>\n",
       "      <td>...</td>\n",
       "    </tr>\n",
       "    <tr>\n",
       "      <th>9995</th>\n",
       "      <td>9995</td>\n",
       "      <td>196204.0</td>\n",
       "      <td>0.083936</td>\n",
       "      <td>0.823252</td>\n",
       "      <td>0.442246</td>\n",
       "      <td>0.002990</td>\n",
       "      <td>1.0</td>\n",
       "      <td>0.123921</td>\n",
       "      <td>-8.682195</td>\n",
       "      <td>1</td>\n",
       "      <td>0.041171</td>\n",
       "      <td>98.264618</td>\n",
       "      <td>4</td>\n",
       "      <td>0.784104</td>\n",
       "    </tr>\n",
       "    <tr>\n",
       "      <th>9996</th>\n",
       "      <td>9996</td>\n",
       "      <td>218343.0</td>\n",
       "      <td>0.105279</td>\n",
       "      <td>0.683743</td>\n",
       "      <td>0.848627</td>\n",
       "      <td>0.001911</td>\n",
       "      <td>6.0</td>\n",
       "      <td>0.106522</td>\n",
       "      <td>-4.946250</td>\n",
       "      <td>0</td>\n",
       "      <td>0.033605</td>\n",
       "      <td>103.949646</td>\n",
       "      <td>4</td>\n",
       "      <td>0.850754</td>\n",
       "    </tr>\n",
       "    <tr>\n",
       "      <th>9997</th>\n",
       "      <td>9997</td>\n",
       "      <td>188434.0</td>\n",
       "      <td>0.753472</td>\n",
       "      <td>0.783947</td>\n",
       "      <td>0.498261</td>\n",
       "      <td>0.134027</td>\n",
       "      <td>6.0</td>\n",
       "      <td>0.088147</td>\n",
       "      <td>-11.812606</td>\n",
       "      <td>1</td>\n",
       "      <td>0.029526</td>\n",
       "      <td>119.090558</td>\n",
       "      <td>4</td>\n",
       "      <td>0.482961</td>\n",
       "    </tr>\n",
       "    <tr>\n",
       "      <th>9998</th>\n",
       "      <td>9998</td>\n",
       "      <td>173044.0</td>\n",
       "      <td>0.863579</td>\n",
       "      <td>0.373283</td>\n",
       "      <td>0.476142</td>\n",
       "      <td>0.000049</td>\n",
       "      <td>10.0</td>\n",
       "      <td>0.122122</td>\n",
       "      <td>-12.371232</td>\n",
       "      <td>0</td>\n",
       "      <td>0.190628</td>\n",
       "      <td>103.048349</td>\n",
       "      <td>3</td>\n",
       "      <td>0.518742</td>\n",
       "    </tr>\n",
       "    <tr>\n",
       "      <th>9999</th>\n",
       "      <td>9999</td>\n",
       "      <td>157896.0</td>\n",
       "      <td>0.019852</td>\n",
       "      <td>0.720380</td>\n",
       "      <td>NaN</td>\n",
       "      <td>0.037727</td>\n",
       "      <td>2.0</td>\n",
       "      <td>0.139422</td>\n",
       "      <td>-4.965311</td>\n",
       "      <td>1</td>\n",
       "      <td>0.053257</td>\n",
       "      <td>109.873611</td>\n",
       "      <td>4</td>\n",
       "      <td>0.971368</td>\n",
       "    </tr>\n",
       "  </tbody>\n",
       "</table>\n",
       "<p>10000 rows × 14 columns</p>\n",
       "</div>"
      ],
      "text/plain": [
       "        id  song_duration_ms  acousticness  danceability    energy  \\\n",
       "0        0          308523.0      0.019845           NaN  0.908939   \n",
       "1        1          200011.0      0.070119      0.731256  0.444655   \n",
       "2        2          279758.0      0.810637      0.568858  0.125466   \n",
       "3        3          249197.0           NaN      0.871789  0.557342   \n",
       "4        4               NaN      0.765568      0.624687  0.710794   \n",
       "...    ...               ...           ...           ...       ...   \n",
       "9995  9995          196204.0      0.083936      0.823252  0.442246   \n",
       "9996  9996          218343.0      0.105279      0.683743  0.848627   \n",
       "9997  9997          188434.0      0.753472      0.783947  0.498261   \n",
       "9998  9998          173044.0      0.863579      0.373283  0.476142   \n",
       "9999  9999          157896.0      0.019852      0.720380       NaN   \n",
       "\n",
       "      instrumentalness   key  liveness   loudness  audio_mode  speechiness  \\\n",
       "0             0.001438   NaN  0.112832  -8.890172           0     0.082714   \n",
       "1             0.002020  10.0  0.139040  -6.301214           0     0.061685   \n",
       "2             0.898841   0.0  0.226614 -11.542478           0     0.041868   \n",
       "3             0.000715   4.0  0.325391  -7.905546           1     0.046815   \n",
       "4             0.000346   8.0  0.308284        NaN           0     0.129284   \n",
       "...                ...   ...       ...        ...         ...          ...   \n",
       "9995          0.002990   1.0  0.123921  -8.682195           1     0.041171   \n",
       "9996          0.001911   6.0  0.106522  -4.946250           0     0.033605   \n",
       "9997          0.134027   6.0  0.088147 -11.812606           1     0.029526   \n",
       "9998          0.000049  10.0  0.122122 -12.371232           0     0.190628   \n",
       "9999          0.037727   2.0  0.139422  -4.965311           1     0.053257   \n",
       "\n",
       "           tempo  time_signature  audio_valence  \n",
       "0     126.129304               4       0.399620  \n",
       "1      86.448149               3       0.499424  \n",
       "2      99.544351               3       0.564951  \n",
       "3     123.063854               4       0.906485  \n",
       "4      88.703121               3       0.935571  \n",
       "...          ...             ...            ...  \n",
       "9995   98.264618               4       0.784104  \n",
       "9996  103.949646               4       0.850754  \n",
       "9997  119.090558               4       0.482961  \n",
       "9998  103.048349               3       0.518742  \n",
       "9999  109.873611               4       0.971368  \n",
       "\n",
       "[10000 rows x 14 columns]"
      ]
     },
     "execution_count": 23,
     "metadata": {},
     "output_type": "execute_result"
    }
   ],
   "source": [
    "test_df"
   ]
  },
  {
   "cell_type": "code",
   "execution_count": 27,
   "id": "5e0f7afc",
   "metadata": {},
   "outputs": [],
   "source": [
    "from sklearn.impute import SimpleImputer"
   ]
  },
  {
   "cell_type": "code",
   "execution_count": 28,
   "id": "aeca055e",
   "metadata": {},
   "outputs": [],
   "source": [
    "imputer = SimpleImputer()"
   ]
  },
  {
   "cell_type": "code",
   "execution_count": 29,
   "id": "a3fcea50",
   "metadata": {},
   "outputs": [],
   "source": [
    "train_df_filled_na = imputer.fit_transform(train_df)"
   ]
  },
  {
   "cell_type": "code",
   "execution_count": 36,
   "id": "788687f9",
   "metadata": {},
   "outputs": [],
   "source": [
    "train_df_filled_na = pd.DataFrame(train_df_filled_na, columns=train_df.columns)"
   ]
  },
  {
   "cell_type": "code",
   "execution_count": 33,
   "id": "4ac80d7a",
   "metadata": {},
   "outputs": [],
   "source": [
    "test_df = imputer.transform(test_df)"
   ]
  },
  {
   "cell_type": "code",
   "execution_count": 37,
   "id": "2132925f",
   "metadata": {},
   "outputs": [],
   "source": [
    "test_df = pd.DataFrame(test_df, columns=train_df.drop(columns=['song_popularity']).columns)"
   ]
  },
  {
   "cell_type": "code",
   "execution_count": 39,
   "id": "418dd5b7",
   "metadata": {},
   "outputs": [],
   "source": [
    "test_df.id = test_df.id.astype(int)"
   ]
  },
  {
   "cell_type": "code",
   "execution_count": 41,
   "id": "88be384f",
   "metadata": {},
   "outputs": [
    {
     "data": {
      "text/plain": [
       "id                  0\n",
       "song_duration_ms    0\n",
       "acousticness        0\n",
       "danceability        0\n",
       "energy              0\n",
       "instrumentalness    0\n",
       "key                 0\n",
       "liveness            0\n",
       "loudness            0\n",
       "audio_mode          0\n",
       "speechiness         0\n",
       "tempo               0\n",
       "time_signature      0\n",
       "audio_valence       0\n",
       "dtype: int64"
      ]
     },
     "execution_count": 41,
     "metadata": {},
     "output_type": "execute_result"
    }
   ],
   "source": [
    "test_df.isnull().sum()"
   ]
  },
  {
   "cell_type": "code",
   "execution_count": 58,
   "id": "ffa0f80b",
   "metadata": {},
   "outputs": [],
   "source": [
    "X_test = test_df.drop(columns=['id'])"
   ]
  },
  {
   "cell_type": "code",
   "execution_count": 47,
   "id": "657ba5d3",
   "metadata": {},
   "outputs": [],
   "source": [
    "sub1_dict = {'id': test_df.id.values, 'song_popularity': clf.predict(X_test)}"
   ]
  },
  {
   "cell_type": "code",
   "execution_count": 48,
   "id": "719a2ba2",
   "metadata": {},
   "outputs": [],
   "source": [
    "sub1 = pd.DataFrame(sub1_dict)"
   ]
  },
  {
   "cell_type": "code",
   "execution_count": 50,
   "id": "6c536423",
   "metadata": {},
   "outputs": [],
   "source": [
    "sub1.to_csv('submission_rm_nan_rndforest.csv', index=False)"
   ]
  },
  {
   "cell_type": "code",
   "execution_count": 51,
   "id": "58be67dc",
   "metadata": {},
   "outputs": [],
   "source": [
    "X = train_df_filled_na.drop(columns=['id','song_popularity'])\n",
    "y = train_df_filled_na['song_popularity']"
   ]
  },
  {
   "cell_type": "code",
   "execution_count": 52,
   "id": "c33d00bc",
   "metadata": {},
   "outputs": [],
   "source": [
    "X_train, X_test, y_train, y_test = train_test_split(X, y, stratify=y)"
   ]
  },
  {
   "cell_type": "code",
   "execution_count": 53,
   "id": "37b19f3e",
   "metadata": {},
   "outputs": [],
   "source": [
    "clf2 = RandomForestClassifier(n_jobs=-1)"
   ]
  },
  {
   "cell_type": "code",
   "execution_count": 54,
   "id": "73c0eb0b",
   "metadata": {},
   "outputs": [
    {
     "data": {
      "text/plain": [
       "RandomForestClassifier(n_jobs=-1)"
      ]
     },
     "execution_count": 54,
     "metadata": {},
     "output_type": "execute_result"
    }
   ],
   "source": [
    "clf2.fit(X_train,y_train)"
   ]
  },
  {
   "cell_type": "code",
   "execution_count": 55,
   "id": "a29586e3",
   "metadata": {},
   "outputs": [
    {
     "data": {
      "text/plain": [
       "0.5085079985271961"
      ]
     },
     "execution_count": 55,
     "metadata": {},
     "output_type": "execute_result"
    }
   ],
   "source": [
    "fpr, tpr, _ = roc_curve(y_test,clf2.predict(X_test))\n",
    "auc(fpr,tpr)"
   ]
  },
  {
   "cell_type": "code",
   "execution_count": 57,
   "id": "d8749dfa",
   "metadata": {},
   "outputs": [
    {
     "data": {
      "text/plain": [
       "RandomForestClassifier(n_jobs=-1)"
      ]
     },
     "execution_count": 57,
     "metadata": {},
     "output_type": "execute_result"
    }
   ],
   "source": [
    "clf2.fit(X_test, y_test)"
   ]
  },
  {
   "cell_type": "code",
   "execution_count": 61,
   "id": "4252a7f1",
   "metadata": {},
   "outputs": [],
   "source": [
    "sub2_dict = {'id': test_df.id.values, 'song_popularity': clf2.predict(X_test)}"
   ]
  },
  {
   "cell_type": "code",
   "execution_count": 62,
   "id": "d67826c2",
   "metadata": {},
   "outputs": [],
   "source": [
    "sub2 = pd.DataFrame(sub2_dict)\n",
    "sub2.to_csv('submission_fill_nan_rndforest.csv', index=False)"
   ]
  }
 ],
 "metadata": {
  "kernelspec": {
   "display_name": "Python 3 (ipykernel)",
   "language": "python",
   "name": "python3"
  },
  "language_info": {
   "codemirror_mode": {
    "name": "ipython",
    "version": 3
   },
   "file_extension": ".py",
   "mimetype": "text/x-python",
   "name": "python",
   "nbconvert_exporter": "python",
   "pygments_lexer": "ipython3",
   "version": "3.8.11"
  }
 },
 "nbformat": 4,
 "nbformat_minor": 5
}
